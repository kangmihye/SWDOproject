{
 "cells": [
  {
   "cell_type": "markdown",
   "id": "74fd7303",
   "metadata": {},
   "source": [
    "-----\n",
    "-----"
   ]
  },
  {
   "cell_type": "code",
   "execution_count": 5,
   "id": "485f24e1",
   "metadata": {},
   "outputs": [
    {
     "name": "stdout",
     "output_type": "stream",
     "text": [
      "{'access_token': 'rAZwAfwgHxzN6q8dB9lT1e3w76koT3q9rLmMbwo9c-wAAAF6HQaH9Q', 'token_type': 'bearer', 'refresh_token': 'lbvGrpIpd1qTueq13Ov1_-66SPK70_tBFHYzUQo9c-wAAAF6HQaH9Q', 'expires_in': 21599, 'scope': 'account_email talk_message profile friends', 'refresh_token_expires_in': 5183999}\n"
     ]
    }
   ],
   "source": [
    "# api키로 인가코드 받기\n",
    "# https://kauth.kakao.com/oauth/authorize?client_id=653cb506f7f83734b59b1946f839f247&redirect_uri=https://naver.com&response_type=code&scope=talk_message,friends\n",
    "\n",
    "# 친구에게 보내기 (로그인) 사용자토큰 받기\n",
    "import requests\n",
    "\n",
    "url = 'https://kauth.kakao.com/oauth/token'\n",
    "rest_api_key = '653cb506f7f83734b59b1946f839f247' #api키 고정\n",
    "redirect_uri = 'https://naver.com'\n",
    "authorize_code = 'MoH5p0E8l0F2i5F4bC5e5JWA59tC9Ijdv6pIBt_B8GetAL-_spbSsHqSGiasvOk-Ta3qtQopyNoAAAF6HQYKGw'\n",
    "     #인가코드 받은것 작성\n",
    "    \n",
    "data = {\n",
    "    'grant_type':'authorization_code',\n",
    "    'client_id':rest_api_key,\n",
    "    'redirect_uri':redirect_uri,\n",
    "    'code': authorize_code,\n",
    "    }\n",
    "\n",
    "response = requests.post(url, data=data)\n",
    "tokens = response.json()\n",
    "print(tokens)"
   ]
  },
  {
   "cell_type": "markdown",
   "id": "f5ca219c",
   "metadata": {},
   "source": [
    "## 친구한테 메세지 보내기 토큰 파일"
   ]
  },
  {
   "cell_type": "code",
   "execution_count": 6,
   "id": "65cc8727",
   "metadata": {},
   "outputs": [],
   "source": [
    "# json 저장\n",
    "import json\n",
    "with open(\"kakao_friend_code.json\",\"w\") as fp:\n",
    "    json.dump(tokens, fp)\n",
    "    \n",
    "# 토큰값 읽어오기\n",
    "with open(\"kakao_friend_code.json\",\"r\") as fp:\n",
    "    tokens_f = json.load(fp)"
   ]
  },
  {
   "cell_type": "code",
   "execution_count": 7,
   "id": "8e88b1e8",
   "metadata": {},
   "outputs": [
    {
     "name": "stdout",
     "output_type": "stream",
     "text": [
      "{\"error\":\"invalid_client\",\"error_description\":\"Bad client credentials\",\"error_code\":\"KOE010\"}\n",
      "[{'profile_nickname': '민초', 'profile_thumbnail_image': '', 'id': 1769364643, 'uuid': 'qpmvm6uYqp6phbSNuo-3gLSMoJWsm6uSp8A', 'favorite': False}, {'profile_nickname': '세진옵바', 'profile_thumbnail_image': '', 'id': 1770800650, 'uuid': 'qp-rn6eep5ehjbyOuI67jb6MuZWgma6ep5Ln', 'favorite': False}, {'profile_nickname': '주성씨', 'profile_thumbnail_image': 'https://p.kakaocdn.net/th/talkp/wlfmO2BnGD/RjB6BGH2TdqtGIF4F4nGw1/npr5d0_110x110_c.jpg', 'id': 1770794014, 'uuid': 'qp-tnqaRopuphbeEs4Kwh7-OuJShmK-fppP_', 'favorite': False}]\n",
      "['qpmvm6uYqp6phbSNuo-3gLSMoJWsm6uSp8A']\n",
      "['qpmvm6uYqp6phbSNuo-3gLSMoJWsm6uSp8A', 'qp-rn6eep5ehjbyOuI67jb6MuZWgma6ep5Ln']\n",
      "['qpmvm6uYqp6phbSNuo-3gLSMoJWsm6uSp8A', 'qp-rn6eep5ehjbyOuI67jb6MuZWgma6ep5Ln', 'qp-tnqaRopuphbeEs4Kwh7-OuJShmK-fppP_']\n"
     ]
    }
   ],
   "source": [
    "# 친구목록 가져오기(uuid 가져오기)\n",
    "import requests\n",
    "import json\n",
    "\n",
    "with open(\"kakao_friend_code.json\",\"r\") as fp:\n",
    "    tokens_f = json.load(fp)\n",
    "\n",
    "friend_url = \"https://kapi.kakao.com/v1/api/talk/friends\"\n",
    "\n",
    "# GET /v1/api/talk/friends HTTP/1.1\n",
    "# Host: kapi.kakao.com\n",
    "# Authorization: Bearer {ACCESS_TOKEN}\n",
    "\n",
    "headers={\"Authorization\" : \"Bearer \" + tokens_f[\"access_token\"]}\n",
    "result = json.loads(requests.get(friend_url, headers=headers).text)\n",
    "\n",
    "friends_list = result.get(\"elements\")\n",
    "friends_id = []\n",
    "\n",
    "print(requests.get(url, headers=headers).text)\n",
    "print(friends_list)\n",
    "\n",
    "for friend in friends_list:\n",
    "    friends_id.append(str(friend.get(\"uuid\")))\n",
    "\n",
    "    print(friends_id)"
   ]
  },
  {
   "cell_type": "code",
   "execution_count": 10,
   "id": "df55dc7c",
   "metadata": {},
   "outputs": [],
   "source": [
    "# 피트형태 메시지 보내기 (친구에게)\n",
    "# 기본템플릿(피드형태)\n",
    "\n",
    "def sendMessage(send_message,send_link):\n",
    "    header = {\"Authorization\": 'Bearer ' + tokens_f[\"access_token\"]}\n",
    "    url = \"https://kapi.kakao.com/v1/api/talk/friends/message/default/send\" #api 주소\n",
    "    # uuid = ['qpmvm6uYqp6phbSNuo-3gLSMoJWsm6uSp8A', 'qp-tnqaRopuphbeEs4Kwh7-OuJShmK-fppP_', 'qp-rn6eep5ehjbyOuI67jb6MuZWgma6ep5Ln']\n",
    "    uuid = [\"qpmvm6uYqp6phbSNuo-3gLSMoJWsm6uSp8A\"]\n",
    "    uuidsData = {\"receiver_uuids\" : json.dumps(uuid)}    \n",
    "\n",
    "    post = {\n",
    "        \"object_type\": \"feed\",\n",
    "        \"content\": {\n",
    "        \"title\" : send_message,\n",
    "        \"image_url\" : \"https://pbs.twimg.com/media/E4Ib3PEUcAg9elB?format=png&name=240x240\",\n",
    "        \"image_width\" : 200, \"image_height\" : 200,\n",
    "        \"link\" : {\n",
    "            \"web_url\" : send_link,\n",
    "            \"mobile_web_url\" : send_link         \n",
    "            },\n",
    "         },\n",
    "        \"button_title\":\"공부하러 가기\"\n",
    "    }\n",
    "\n",
    "    data = {\"template_object\": json.dumps(post)\n",
    "           }\n",
    "    uuidsData.update(data)\n",
    "\n",
    "    requests.post(url, headers=header, data=uuidsData).status_code\n",
    "    print(response.status_code)\n",
    "    if response.json().get('result_code') == 0:\n",
    "        print('메시지를 성공적으로 보냈습니다.')\n",
    "    else:\n",
    "        print('메시지를 성공적으로 보내지 못했습니다. 오류메시지 : ' + str(response.json()))"
   ]
  },
  {
   "cell_type": "markdown",
   "id": "36e7da4d",
   "metadata": {},
   "source": [
    "# 모듈+ API코드 "
   ]
  },
  {
   "cell_type": "code",
   "execution_count": 11,
   "id": "ac38d7db",
   "metadata": {},
   "outputs": [
    {
     "name": "stdout",
     "output_type": "stream",
     "text": [
      "확인\n",
      "\n",
      "https://japan.hackers.com/?r=japan&c=free_lecture/daily\n",
      "200\n",
      "메시지를 성공적으로 보내지 못했습니다. 오류메시지 : {'access_token': 'rAZwAfwgHxzN6q8dB9lT1e3w76koT3q9rLmMbwo9c-wAAAF6HQaH9Q', 'token_type': 'bearer', 'refresh_token': 'lbvGrpIpd1qTueq13Ov1_-66SPK70_tBFHYzUQo9c-wAAAF6HQaH9Q', 'expires_in': 21599, 'scope': 'account_email talk_message profile friends', 'refresh_token_expires_in': 5183999}\n",
      "아이고 \n",
      "\n",
      "https://japan.hackers.com/?r=japan&c=free_lecture/daily\n",
      "200\n",
      "메시지를 성공적으로 보내지 못했습니다. 오류메시지 : {'access_token': 'rAZwAfwgHxzN6q8dB9lT1e3w76koT3q9rLmMbwo9c-wAAAF6HQaH9Q', 'token_type': 'bearer', 'refresh_token': 'lbvGrpIpd1qTueq13Ov1_-66SPK70_tBFHYzUQo9c-wAAAF6HQaH9Q', 'expires_in': 21599, 'scope': 'account_email talk_message profile friends', 'refresh_token_expires_in': 5183999}\n"
     ]
    }
   ],
   "source": [
    "import tkinter.messagebox as msgbox\n",
    "from tkinter import *\n",
    "\n",
    "count_message = 0\n",
    "count_link = 0\n",
    "\n",
    "root=Tk()\n",
    "root.title(\"카카오톡 메세지 보내기\")\n",
    "root.geometry(\"360x493\")\n",
    "\n",
    "\n",
    "img=PhotoImage(file=\"backgroundImg.png\", master=root) # 이미지 파일 불러오기\n",
    "Label(root,image=img, borderwidth=0).place(x=0, y=0)\n",
    "\n",
    "btn1 = PhotoImage(file=\"btn1_.png\", master=root) #버튼에 이미지 넣기\n",
    "btn2 = PhotoImage(file=\"btn2_.png\", master=root)\n",
    "\n",
    "root.resizable(width=False, height=False)\n",
    "\n",
    "message = Text(root, width=31,height=13,relief=\"flat\", bg=\"#F0F0F0\")\n",
    "\n",
    "message.insert(END,\"메세지를 입력\")\n",
    "link = Entry(root,width=34,relief=\"flat\", bg=\"#F0F0F0\")\n",
    "\n",
    "link.insert(0,\"링크입력\")\n",
    "message.place(x=70, y=82)\n",
    "link.place(x=58.7, y=308)\n",
    "\n",
    "def start_message(event):\n",
    "    global count_message\n",
    "    if count_message == 0:\n",
    "        message.delete(\"1.0\",END)\n",
    "        count_message +=1\n",
    "        \n",
    "def start_link(event):\n",
    "    global count_link\n",
    "    if count_link == 0:\n",
    "        link.delete(0,END)\n",
    "        count_link += 1\n",
    "\n",
    "\n",
    "def send():\n",
    "    global send_message\n",
    "    send_message = message.get(\"1.0\",END)\n",
    "    print(send_message)\n",
    "    global send_link\n",
    "    send_link = link.get()\n",
    "    print(send_link)\n",
    "    if(msgbox.askokcancel(\"메세지 보내기\",\"이대로 보내시겠습니까?\")):\n",
    "        sendMessage(send_message,send_link)\n",
    "def clear():\n",
    "    if(msgbox.askokcancel(\"메세지 초기화\",\"초기화 하시겠습니까?\")):\n",
    "        message.delete(\"1.0\",END)\n",
    "        link.delete(0,END)\n",
    "\n",
    "send_message = Button(root,\n",
    "                      command=send,\n",
    "                      bg = \"snow\",\n",
    "                      fg = \"red\",\n",
    "                      relief=\"flat\",\n",
    "                      borderwidth=0,\n",
    "                      highlightthickness=0,\n",
    "                      image=btn1\n",
    "                     )\n",
    "clear_message = Button(root,\n",
    "                       command=clear,\n",
    "                       bg = \"snow\",\n",
    "                       fg = \"red\",\n",
    "                       relief=\"flat\",\n",
    "                       borderwidth=0,\n",
    "                       highlightthickness=0,\n",
    "                       image=btn2\n",
    "                      )\n",
    "clear_message.place(x=85, y=365)\n",
    "send_message.place(x=200, y=360)\n",
    "\n",
    "message.bind(\"<Button>\",start_message)\n",
    "link.bind(\"<Button>\",start_link)\n",
    "\n",
    "root.mainloop()"
   ]
  }
 ],
 "metadata": {
  "kernelspec": {
   "display_name": "Python 3",
   "language": "python",
   "name": "python3"
  },
  "language_info": {
   "codemirror_mode": {
    "name": "ipython",
    "version": 3
   },
   "file_extension": ".py",
   "mimetype": "text/x-python",
   "name": "python",
   "nbconvert_exporter": "python",
   "pygments_lexer": "ipython3",
   "version": "3.8.8"
  }
 },
 "nbformat": 4,
 "nbformat_minor": 5
}
